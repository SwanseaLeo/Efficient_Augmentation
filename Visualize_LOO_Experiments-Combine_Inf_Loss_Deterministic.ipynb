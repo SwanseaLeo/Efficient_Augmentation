{
 "cells": [
  {
   "cell_type": "code",
   "execution_count": null,
   "metadata": {
    "papermill": {
     "duration": 0.187032,
     "end_time": "2018-11-19T22:29:33.242264",
     "exception": false,
     "start_time": "2018-11-19T22:29:33.055232",
     "status": "completed"
    },
    "tags": []
   },
   "outputs": [],
   "source": [
    "%matplotlib inline"
   ]
  },
  {
   "cell_type": "code",
   "execution_count": null,
   "metadata": {
    "papermill": {
     "duration": 0.461994,
     "end_time": "2018-11-19T22:29:33.704356",
     "exception": false,
     "start_time": "2018-11-19T22:29:33.242362",
     "status": "completed"
    },
    "tags": []
   },
   "outputs": [],
   "source": [
    "import numpy as np\n",
    "import matplotlib.pyplot as plt\n",
    "import seaborn as sns\n",
    "import pandas as pd\n",
    "import sklearn.metrics\n",
    "import scipy\n",
    "import adjustText\n",
    "import matplotlib.ticker"
   ]
  },
  {
   "cell_type": "code",
   "execution_count": null,
   "metadata": {
    "papermill": {
     "duration": 0.008736,
     "end_time": "2018-11-19T22:29:33.713191",
     "exception": false,
     "start_time": "2018-11-19T22:29:33.704455",
     "status": "completed"
    },
    "tags": []
   },
   "outputs": [],
   "source": [
    "# Set the default plot style\n",
    "#default_plt_width = 15\n",
    "#default_plt_height = 10\n",
    "#plt.rcParams['figure.figsize'] = [default_plt_width, default_plt_height]"
   ]
  },
  {
   "cell_type": "code",
   "execution_count": null,
   "metadata": {
    "papermill": {
     "duration": 0.077972,
     "end_time": "2018-11-19T22:29:33.791210",
     "exception": false,
     "start_time": "2018-11-19T22:29:33.713238",
     "status": "completed"
    },
    "tags": []
   },
   "outputs": [],
   "source": [
    "sns.set_style(\"whitegrid\")\n",
    "sns.set_context(\"paper\")\n",
    "sns.set(font_scale=1.1)\n",
    "sns.despine(left=True)\n",
    "sns.set_style(\"ticks\", {\"xtick.major.size\": 8, \"ytick.major.size\": 8})\n",
    "cmap = sns.color_palette(\"Set1\")\n",
    "sns.palplot(cmap)\n",
    "sns.set_palette(cmap)\n",
    "plt_y_axis_fmt_string = '%.3f'"
   ]
  },
  {
   "cell_type": "code",
   "execution_count": null,
   "metadata": {
    "papermill": {
     "duration": 0.015758,
     "end_time": "2018-11-19T22:29:33.807035",
     "exception": false,
     "start_time": "2018-11-19T22:29:33.791277",
     "status": "completed"
    },
    "tags": [
     "parameters"
    ]
   },
   "outputs": [],
   "source": [
    "filename_prefix = \"aug_results_MNIST_3_vs_8_translate_10\""
   ]
  },
  {
   "cell_type": "code",
   "execution_count": null,
   "metadata": {
    "papermill": {
     "duration": 0.015684,
     "end_time": "2018-11-19T22:29:33.822892",
     "exception": false,
     "start_time": "2018-11-19T22:29:33.807208",
     "status": "completed"
    },
    "tags": [
     "injected-parameters"
    ]
   },
   "outputs": [],
   "source": [
    "# Parameters\n",
    "filename_prefix = \"aug_results_NORB_0_vs_1_crop_10\"\n"
   ]
  },
  {
   "cell_type": "code",
   "execution_count": null,
   "metadata": {
    "papermill": {
     "duration": 0.015708,
     "end_time": "2018-11-19T22:29:33.838665",
     "exception": false,
     "start_time": "2018-11-19T22:29:33.822957",
     "status": "completed"
    },
    "tags": []
   },
   "outputs": [],
   "source": [
    "runs_data = np.load(\"{}.npz\".format(filename_prefix))"
   ]
  },
  {
   "cell_type": "code",
   "execution_count": null,
   "metadata": {
    "papermill": {
     "duration": 0.013127,
     "end_time": "2018-11-19T22:29:33.851857",
     "exception": false,
     "start_time": "2018-11-19T22:29:33.838730",
     "status": "completed"
    },
    "tags": []
   },
   "outputs": [],
   "source": [
    "baseline_acc = runs_data[\"no_aug_no_poison_acc\"]\n",
    "poisoned_acc = runs_data[\"poisoned_acc\"]\n",
    "all_aug_train_poisoned_acc = runs_data[\"all_aug_train_poisoned_acc\"]\n",
    "n_aug_sample_points = runs_data[\"n_aug_sample_points\"]\n",
    "n_train = runs_data[\"n_train\"]\n",
    "VSV_acc = runs_data[\"VSV_acc\"]\n",
    "is_SV = runs_data[\"is_SV\"].astype(np.int)\n",
    "n_SV = np.sum(is_SV)"
   ]
  },
  {
   "cell_type": "code",
   "execution_count": null,
   "metadata": {
    "papermill": {
     "duration": 0.012885,
     "end_time": "2018-11-19T22:29:33.864790",
     "exception": false,
     "start_time": "2018-11-19T22:29:33.851905",
     "status": "completed"
    },
    "tags": []
   },
   "outputs": [],
   "source": [
    "runs_data_inf = pd.read_pickle(\"{}.pkl\".format(filename_prefix))\n",
    "runs_data_loss = pd.read_pickle(\"{}_loss.pkl\".format(filename_prefix))"
   ]
  },
  {
   "cell_type": "code",
   "execution_count": null,
   "metadata": {
    "papermill": {
     "duration": 0.00993,
     "end_time": "2018-11-19T22:29:33.874790",
     "exception": false,
     "start_time": "2018-11-19T22:29:33.864860",
     "status": "completed"
    },
    "tags": []
   },
   "outputs": [],
   "source": [
    "runs_data_inf[\"score\"] = \"influence\""
   ]
  },
  {
   "cell_type": "code",
   "execution_count": null,
   "metadata": {
    "papermill": {
     "duration": 0.011953,
     "end_time": "2018-11-19T22:29:33.886791",
     "exception": false,
     "start_time": "2018-11-19T22:29:33.874838",
     "status": "completed"
    },
    "tags": []
   },
   "outputs": [],
   "source": [
    "runs_data_loss[\"score\"] = \"loss\""
   ]
  },
  {
   "cell_type": "code",
   "execution_count": null,
   "metadata": {
    "papermill": {
     "duration": 0.012344,
     "end_time": "2018-11-19T22:29:33.899182",
     "exception": false,
     "start_time": "2018-11-19T22:29:33.886838",
     "status": "completed"
    },
    "tags": []
   },
   "outputs": [],
   "source": [
    "run_df_unprocessed = pd.concat([\n",
    "    runs_data_inf,\n",
    "    runs_data_loss,\n",
    "])"
   ]
  },
  {
   "cell_type": "code",
   "execution_count": null,
   "metadata": {
    "papermill": {
     "duration": 0.02477,
     "end_time": "2018-11-19T22:29:33.923999",
     "exception": false,
     "start_time": "2018-11-19T22:29:33.899229",
     "status": "completed"
    },
    "tags": []
   },
   "outputs": [],
   "source": [
    "run_df_unprocessed"
   ]
  },
  {
   "cell_type": "code",
   "execution_count": null,
   "metadata": {
    "papermill": {
     "duration": 0.020152,
     "end_time": "2018-11-19T22:29:33.944246",
     "exception": false,
     "start_time": "2018-11-19T22:29:33.924094",
     "status": "completed"
    },
    "tags": []
   },
   "outputs": [],
   "source": [
    "baseline = run_df_unprocessed.query(\"test_type == 'baseline'\").reset_index()"
   ]
  },
  {
   "cell_type": "code",
   "execution_count": null,
   "metadata": {
    "papermill": {
     "duration": 0.012238,
     "end_time": "2018-11-19T22:29:33.956534",
     "exception": false,
     "start_time": "2018-11-19T22:29:33.944296",
     "status": "completed"
    },
    "tags": []
   },
   "outputs": [],
   "source": [
    "baseline[\"score\"] = \"baseline\""
   ]
  },
  {
   "cell_type": "code",
   "execution_count": null,
   "metadata": {
    "papermill": {
     "duration": 0.011647,
     "end_time": "2018-11-19T22:29:33.968247",
     "exception": false,
     "start_time": "2018-11-19T22:29:33.956600",
     "status": "completed"
    },
    "tags": []
   },
   "outputs": [],
   "source": [
    "baseline[\"test_type\"] = \"Baseline\""
   ]
  },
  {
   "cell_type": "code",
   "execution_count": null,
   "metadata": {
    "papermill": {
     "duration": 0.026232,
     "end_time": "2018-11-19T22:29:33.994525",
     "exception": false,
     "start_time": "2018-11-19T22:29:33.968293",
     "status": "completed"
    },
    "tags": []
   },
   "outputs": [],
   "source": [
    "baseline"
   ]
  },
  {
   "cell_type": "code",
   "execution_count": null,
   "metadata": {
    "papermill": {
     "duration": 0.045128,
     "end_time": "2018-11-19T22:29:34.039701",
     "exception": false,
     "start_time": "2018-11-19T22:29:33.994573",
     "status": "completed"
    },
    "tags": []
   },
   "outputs": [],
   "source": [
    "prop_inf = run_df_unprocessed.query(\"test_type == 'deterministic_proportional' & score == 'influence'\")\n",
    "prop_inf[\"test_type\"] = \"Deterministic Proportional Influence\""
   ]
  },
  {
   "cell_type": "code",
   "execution_count": null,
   "metadata": {
    "papermill": {
     "duration": 0.043032,
     "end_time": "2018-11-19T22:29:34.082830",
     "exception": false,
     "start_time": "2018-11-19T22:29:34.039798",
     "status": "completed"
    },
    "tags": []
   },
   "outputs": [],
   "source": [
    "prop_loss = run_df_unprocessed.query(\"test_type == 'deterministic_proportional' & score == 'loss'\")\n",
    "prop_loss[\"test_type\"] = \"Deterministic Proportional Loss\""
   ]
  },
  {
   "cell_type": "code",
   "execution_count": null,
   "metadata": {
    "papermill": {
     "duration": 0.016662,
     "end_time": "2018-11-19T22:29:34.099540",
     "exception": false,
     "start_time": "2018-11-19T22:29:34.082878",
     "status": "completed"
    },
    "tags": []
   },
   "outputs": [],
   "source": [
    "run_df = pd.concat([\n",
    "    baseline,\n",
    "    prop_inf,\n",
    "    prop_loss,\n",
    "])"
   ]
  },
  {
   "cell_type": "code",
   "execution_count": null,
   "metadata": {
    "papermill": {
     "duration": 0.01576,
     "end_time": "2018-11-19T22:29:34.115348",
     "exception": false,
     "start_time": "2018-11-19T22:29:34.099588",
     "status": "completed"
    },
    "tags": []
   },
   "outputs": [],
   "source": [
    "run_df = run_df.rename(\n",
    "    index=str,\n",
    "    columns={\"test_accuracy\": \"Test Accuracy\",\n",
    "             \"n_auged\": \"Number of Augmented Points\",\n",
    "            },\n",
    ")"
   ]
  },
  {
   "cell_type": "code",
   "execution_count": null,
   "metadata": {
    "papermill": {
     "duration": 0.03379,
     "end_time": "2018-11-19T22:29:34.149187",
     "exception": false,
     "start_time": "2018-11-19T22:29:34.115397",
     "status": "completed"
    },
    "tags": []
   },
   "outputs": [],
   "source": [
    "run_df"
   ]
  },
  {
   "cell_type": "code",
   "execution_count": null,
   "metadata": {
    "papermill": {
     "duration": 0.01312,
     "end_time": "2018-11-19T22:29:34.162403",
     "exception": false,
     "start_time": "2018-11-19T22:29:34.149283",
     "status": "completed"
    },
    "tags": []
   },
   "outputs": [],
   "source": [
    "VSV_x = n_SV\n",
    "VSV_y = VSV_acc"
   ]
  },
  {
   "cell_type": "code",
   "execution_count": null,
   "metadata": {
    "papermill": {
     "duration": 0.469205,
     "end_time": "2018-11-19T22:29:34.631655",
     "exception": false,
     "start_time": "2018-11-19T22:29:34.162450",
     "status": "completed"
    },
    "tags": []
   },
   "outputs": [],
   "source": [
    "fig, ax = plt.subplots()\n",
    "run_plot = sns.lineplot(x=\"Number of Augmented Points\",\n",
    "                        y=\"Test Accuracy\",\n",
    "                        hue=\"test_type\",\n",
    "                        style=\"test_type\",\n",
    "                        ci=95,\n",
    "                        data=run_df,\n",
    "                        markers=True,\n",
    "                        dashes=True,\n",
    "                        ax=ax)\n",
    "run_plot.scatter(VSV_x, VSV_y, marker=\"x\", color=\"k\", s=20)\n",
    "#run_plot.annotate(\"VSV\", (VSV_x - 73, VSV_y - 0.0008))\n",
    "text = run_plot.text(VSV_x, VSV_y, \"VSV\", fontsize=12)\n",
    "l = ax.legend()\n",
    "#l.texts[0].set_text(\"\")\n",
    "#l.set_title('Whatever you want')\n",
    "handles, labels = ax.get_legend_handles_labels()\n",
    "ax.legend(handles=handles[1:], labels=labels[1:])\n",
    "ax.yaxis.set_major_formatter(matplotlib.ticker.FormatStrFormatter(plt_y_axis_fmt_string))\n",
    "plt.setp(ax.get_legend().get_texts(), fontsize='11.5') # for legend text \n",
    "#run_plot.axhline(y=baseline_acc,\n",
    "#                 color=\"b\",\n",
    "#                 linestyle=\"--\",\n",
    "#                 label=\"baseline_acc\")\n",
    "run_plot.axhline(y=poisoned_acc,\n",
    "                 color=\"r\",\n",
    "                 linestyle=\"--\",\n",
    "                 label=\"poisoned_acc\")\n",
    "run_plot.axhline(y=all_aug_train_poisoned_acc,\n",
    "                 color=\"g\",\n",
    "                 linestyle=\"--\",\n",
    "                 label=\"all_aug_train_poisoned_acc\")\n",
    "adjustText.adjust_text([text],\n",
    "                       x=[VSV_x],\n",
    "                       y=[VSV_y],\n",
    "                       add_objects=[run_plot],\n",
    "                       expand_points=(0.2, 0.2),\n",
    "                       expand_objects=(0.3, 0.3),\n",
    "                       ax=ax,\n",
    "                       force_objects=(0.1, 0.1))\n",
    "run_plot.get_figure().savefig(filename_prefix + \"_deterministic_joined.pdf\",\n",
    "                              bbox_inches=\"tight\")"
   ]
  }
 ],
 "metadata": {
  "kernelspec": {
   "display_name": "Python 3",
   "language": "python",
   "name": "python3"
  },
  "language_info": {
   "codemirror_mode": {
    "name": "ipython",
    "version": 3
   },
   "file_extension": ".py",
   "mimetype": "text/x-python",
   "name": "python",
   "nbconvert_exporter": "python",
   "pygments_lexer": "ipython3",
   "version": "3.6.5"
  },
  "papermill": {
   "duration": 3.312584,
   "end_time": "2018-11-19T22:29:35.871271",
   "environment_variables": {},
   "exception": false,
   "output_path": "Visualize_LOO_Experiments-Combine_Inf_Loss_Deterministic.ipynb",
   "parameters": {
    "filename_prefix": "aug_results_NORB_0_vs_1_crop_10"
   },
   "start_time": "2018-11-19T22:29:32.558687",
   "version": "0.15.0"
  }
 },
 "nbformat": 4,
 "nbformat_minor": 2
}
