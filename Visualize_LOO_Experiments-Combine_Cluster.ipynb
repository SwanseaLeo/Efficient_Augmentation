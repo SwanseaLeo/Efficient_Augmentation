{
 "cells": [
  {
   "cell_type": "code",
   "execution_count": null,
   "metadata": {
    "papermill": {
     "duration": 0.181775,
     "end_time": "2019-01-16T14:27:04.205104",
     "exception": false,
     "start_time": "2019-01-16T14:27:04.023329",
     "status": "completed"
    },
    "tags": []
   },
   "outputs": [],
   "source": [
    "%matplotlib inline"
   ]
  },
  {
   "cell_type": "code",
   "execution_count": null,
   "metadata": {
    "papermill": {
     "duration": 0.464993,
     "end_time": "2019-01-16T14:27:04.670200",
     "exception": false,
     "start_time": "2019-01-16T14:27:04.205207",
     "status": "completed"
    },
    "tags": []
   },
   "outputs": [],
   "source": [
    "import numpy as np\n",
    "import matplotlib.pyplot as plt\n",
    "import seaborn as sns\n",
    "import pandas as pd\n",
    "import sklearn.metrics\n",
    "import scipy\n",
    "import adjustText\n",
    "import matplotlib.ticker"
   ]
  },
  {
   "cell_type": "code",
   "execution_count": null,
   "metadata": {
    "papermill": {
     "duration": 0.010888,
     "end_time": "2019-01-16T14:27:04.681192",
     "exception": false,
     "start_time": "2019-01-16T14:27:04.670304",
     "status": "completed"
    },
    "tags": []
   },
   "outputs": [],
   "source": [
    "# Set the default plot style\n",
    "#default_plt_width = 15\n",
    "#default_plt_height = 10\n",
    "#plt.rcParams['figure.figsize'] = [default_plt_width, default_plt_height]"
   ]
  },
  {
   "cell_type": "code",
   "execution_count": null,
   "metadata": {
    "papermill": {
     "duration": 0.072703,
     "end_time": "2019-01-16T14:27:04.754001",
     "exception": false,
     "start_time": "2019-01-16T14:27:04.681298",
     "status": "completed"
    },
    "tags": []
   },
   "outputs": [],
   "source": [
    "sns.set_style(\"whitegrid\")\n",
    "sns.set_context(\"paper\")\n",
    "sns.set(font_scale=1.1)\n",
    "sns.despine(left=True)\n",
    "sns.set_style(\"ticks\", {\"xtick.major.size\": 8, \"ytick.major.size\": 8})\n",
    "cmap = sns.color_palette(\"Set1\")\n",
    "sns.palplot(cmap)\n",
    "sns.set_palette(cmap)\n",
    "plt_y_axis_fmt_string = '%.3f'"
   ]
  },
  {
   "cell_type": "code",
   "execution_count": null,
   "metadata": {
    "papermill": {
     "duration": 0.016794,
     "end_time": "2019-01-16T14:27:04.770859",
     "exception": false,
     "start_time": "2019-01-16T14:27:04.754065",
     "status": "completed"
    },
    "tags": [
     "parameters"
    ]
   },
   "outputs": [],
   "source": [
    "filename_prefix = \"aug_results_MNIST_3_vs_8_translate_10\""
   ]
  },
  {
   "cell_type": "code",
   "execution_count": null,
   "metadata": {
    "papermill": {
     "duration": 0.0115,
     "end_time": "2019-01-16T14:27:04.783918",
     "exception": false,
     "start_time": "2019-01-16T14:27:04.772418",
     "status": "completed"
    },
    "tags": [
     "injected-parameters"
    ]
   },
   "outputs": [],
   "source": [
    "# Parameters\n",
    "filename_prefix = \"aug_results_CIFAR10_0_vs_1_crop_10_loss\"\n"
   ]
  },
  {
   "cell_type": "code",
   "execution_count": null,
   "metadata": {
    "papermill": {
     "duration": 0.013697,
     "end_time": "2019-01-16T14:27:04.797661",
     "exception": false,
     "start_time": "2019-01-16T14:27:04.783964",
     "status": "completed"
    },
    "tags": []
   },
   "outputs": [],
   "source": [
    "n_clusters = [1, 10, 50, 100, 250, 500, 750, 1000]"
   ]
  },
  {
   "cell_type": "code",
   "execution_count": null,
   "metadata": {
    "papermill": {
     "duration": 0.01387,
     "end_time": "2019-01-16T14:27:04.811576",
     "exception": false,
     "start_time": "2019-01-16T14:27:04.797706",
     "status": "completed"
    },
    "tags": []
   },
   "outputs": [],
   "source": [
    "runs_data = np.load(\"{}.npz\".format(filename_prefix))"
   ]
  },
  {
   "cell_type": "code",
   "execution_count": null,
   "metadata": {
    "papermill": {
     "duration": 0.014106,
     "end_time": "2019-01-16T14:27:04.825726",
     "exception": false,
     "start_time": "2019-01-16T14:27:04.811620",
     "status": "completed"
    },
    "tags": []
   },
   "outputs": [],
   "source": [
    "baseline_acc = runs_data[\"no_aug_no_poison_acc\"]\n",
    "poisoned_acc = runs_data[\"poisoned_acc\"]\n",
    "all_aug_train_poisoned_acc = runs_data[\"all_aug_train_poisoned_acc\"]\n",
    "n_aug_sample_points = runs_data[\"n_aug_sample_points\"]\n",
    "n_train = runs_data[\"n_train\"]\n",
    "VSV_acc = runs_data[\"VSV_acc\"]\n",
    "is_SV = runs_data[\"is_SV\"].astype(np.int)\n",
    "n_SV = np.sum(is_SV)"
   ]
  },
  {
   "cell_type": "code",
   "execution_count": null,
   "metadata": {
    "papermill": {
     "duration": 0.023425,
     "end_time": "2019-01-16T14:27:04.849195",
     "exception": false,
     "start_time": "2019-01-16T14:27:04.825770",
     "status": "completed"
    },
    "tags": []
   },
   "outputs": [],
   "source": [
    "dict(runs_data)"
   ]
  },
  {
   "cell_type": "code",
   "execution_count": null,
   "metadata": {
    "papermill": {
     "duration": 0.013347,
     "end_time": "2019-01-16T14:27:04.862587",
     "exception": false,
     "start_time": "2019-01-16T14:27:04.849240",
     "status": "completed"
    },
    "tags": []
   },
   "outputs": [],
   "source": [
    "#runs_data_inf = pd.read_pickle(\"{}.pkl\".format(filename_prefix))\n",
    "#runs_data_loss = pd.read_pickle(\"{}.pkl\".format(filename_prefix_margin))"
   ]
  },
  {
   "cell_type": "code",
   "execution_count": null,
   "metadata": {
    "papermill": {
     "duration": 0.020883,
     "end_time": "2019-01-16T14:27:04.883514",
     "exception": false,
     "start_time": "2019-01-16T14:27:04.862631",
     "status": "completed"
    },
    "tags": []
   },
   "outputs": [],
   "source": [
    "runs_data_clusters = []\n",
    "for i in n_clusters:\n",
    "    if filename_prefix[-5:] == \"_loss\":\n",
    "        # Loss naming convention conflicts with n_clusters number\n",
    "        runs_data_n_clusters = pd.read_pickle(\"{}_{}_loss.pkl\".format(filename_prefix[:-5], i))\n",
    "    else:\n",
    "        runs_data_n_clusters = pd.read_pickle(\"{}_{}.pkl\".format(filename_prefix, i))\n",
    "    runs_data_n_clusters[\"n_clusters\"] = i\n",
    "    runs_data_clusters.append(runs_data_n_clusters)\n",
    "runs_data_0 = pd.read_pickle(\"{}.pkl\".format(filename_prefix))\n",
    "runs_data_0[\"n_clusters\"] = 0\n",
    "runs_data_clusters.append(runs_data_0)"
   ]
  },
  {
   "cell_type": "code",
   "execution_count": null,
   "metadata": {
    "papermill": {
     "duration": 0.01226,
     "end_time": "2019-01-16T14:27:04.895873",
     "exception": false,
     "start_time": "2019-01-16T14:27:04.883613",
     "status": "completed"
    },
    "tags": []
   },
   "outputs": [],
   "source": [
    "run_df_unprocessed = pd.concat(\n",
    "    runs_data_clusters\n",
    ")"
   ]
  },
  {
   "cell_type": "code",
   "execution_count": null,
   "metadata": {
    "papermill": {
     "duration": 0.026457,
     "end_time": "2019-01-16T14:27:04.922375",
     "exception": false,
     "start_time": "2019-01-16T14:27:04.895918",
     "status": "completed"
    },
    "tags": []
   },
   "outputs": [],
   "source": [
    "run_df_unprocessed"
   ]
  },
  {
   "cell_type": "code",
   "execution_count": null,
   "metadata": {
    "papermill": {
     "duration": 0.038479,
     "end_time": "2019-01-16T14:27:04.960899",
     "exception": false,
     "start_time": "2019-01-16T14:27:04.922420",
     "status": "completed"
    },
    "tags": []
   },
   "outputs": [],
   "source": [
    "fixed_ratio_n_aug_n_clusters = []\n",
    "for i in n_clusters:\n",
    "    ret = run_df_unprocessed.query(\"n_clusters == '{}' & n_auged == '{}'\".format(i, i))\n",
    "    print(ret)\n",
    "    fixed_ratio_n_aug_n_clusters.append(ret)\n",
    "fixed_ratio_n_aug_n_clusters_df = pd.concat(\n",
    "    fixed_ratio_n_aug_n_clusters\n",
    ")"
   ]
  },
  {
   "cell_type": "code",
   "execution_count": null,
   "metadata": {
    "papermill": {
     "duration": 0.014094,
     "end_time": "2019-01-16T14:27:04.975041",
     "exception": false,
     "start_time": "2019-01-16T14:27:04.960947",
     "status": "completed"
    },
    "tags": []
   },
   "outputs": [],
   "source": [
    "fixed_ratio_n_aug_n_clusters_df"
   ]
  },
  {
   "cell_type": "code",
   "execution_count": null,
   "metadata": {
    "papermill": {
     "duration": 0.017531,
     "end_time": "2019-01-16T14:27:04.992617",
     "exception": false,
     "start_time": "2019-01-16T14:27:04.975086",
     "status": "completed"
    },
    "tags": []
   },
   "outputs": [],
   "source": [
    "baseline_0 = run_df_unprocessed.query(\"test_type == 'baseline' & n_clusters == '0'\").reset_index()"
   ]
  },
  {
   "cell_type": "code",
   "execution_count": null,
   "metadata": {
    "papermill": {
     "duration": 0.015644,
     "end_time": "2019-01-16T14:27:05.008366",
     "exception": false,
     "start_time": "2019-01-16T14:27:04.992722",
     "status": "completed"
    },
    "tags": []
   },
   "outputs": [],
   "source": [
    "baseline_0[\"score\"] = \"baseline\"\n",
    "baseline_0[\"clustered\"] = False\n",
    "baseline_0[\"test_type\"] = \"Baseline\""
   ]
  },
  {
   "cell_type": "code",
   "execution_count": null,
   "metadata": {
    "papermill": {
     "duration": 0.025417,
     "end_time": "2019-01-16T14:27:05.033836",
     "exception": false,
     "start_time": "2019-01-16T14:27:05.008419",
     "status": "completed"
    },
    "tags": []
   },
   "outputs": [],
   "source": [
    "baseline_0"
   ]
  },
  {
   "cell_type": "code",
   "execution_count": null,
   "metadata": {
    "papermill": {
     "duration": 0.017638,
     "end_time": "2019-01-16T14:27:05.051520",
     "exception": false,
     "start_time": "2019-01-16T14:27:05.033882",
     "status": "completed"
    },
    "tags": []
   },
   "outputs": [],
   "source": [
    "baseline_n_clusters = fixed_ratio_n_aug_n_clusters_df.query(\"test_type == 'baseline'\").reset_index()"
   ]
  },
  {
   "cell_type": "code",
   "execution_count": null,
   "metadata": {
    "papermill": {
     "duration": 0.016237,
     "end_time": "2019-01-16T14:27:05.067804",
     "exception": false,
     "start_time": "2019-01-16T14:27:05.051567",
     "status": "completed"
    },
    "tags": []
   },
   "outputs": [],
   "source": [
    "baseline_n_clusters[\"score\"] = \"baseline\"\n",
    "baseline_n_clusters[\"clustered\"] = True\n",
    "baseline_n_clusters[\"test_type\"] = \"Baseline Clustered\""
   ]
  },
  {
   "cell_type": "code",
   "execution_count": null,
   "metadata": {
    "papermill": {
     "duration": 0.019511,
     "end_time": "2019-01-16T14:27:05.087361",
     "exception": false,
     "start_time": "2019-01-16T14:27:05.067850",
     "status": "completed"
    },
    "tags": []
   },
   "outputs": [],
   "source": [
    "baseline_n_clusters"
   ]
  },
  {
   "cell_type": "code",
   "execution_count": null,
   "metadata": {
    "papermill": {
     "duration": 0.057337,
     "end_time": "2019-01-16T14:27:05.144744",
     "exception": false,
     "start_time": "2019-01-16T14:27:05.087407",
     "status": "completed"
    },
    "tags": []
   },
   "outputs": [],
   "source": [
    "prop_inf_0 = run_df_unprocessed.query(\"test_type == 'random_proportional' & n_clusters == '0'\")\n",
    "prop_inf_0[\"test_type\"] = \"Random Proportional Influence\"\n",
    "prop_inf_0[\"clustered\"] = False"
   ]
  },
  {
   "cell_type": "code",
   "execution_count": null,
   "metadata": {
    "papermill": {
     "duration": 0.014205,
     "end_time": "2019-01-16T14:27:05.159049",
     "exception": false,
     "start_time": "2019-01-16T14:27:05.144844",
     "status": "completed"
    },
    "tags": []
   },
   "outputs": [],
   "source": [
    "prop_n_clusters = fixed_ratio_n_aug_n_clusters_df.query(\"test_type == 'random_proportional'\").reset_index()\n",
    "prop_n_clusters[\"test_type\"] = \"Random Proportional Influence Clustered\"\n",
    "prop_n_clusters[\"clustered\"] = True"
   ]
  },
  {
   "cell_type": "code",
   "execution_count": null,
   "metadata": {
    "papermill": {
     "duration": 0.01867,
     "end_time": "2019-01-16T14:27:05.177780",
     "exception": false,
     "start_time": "2019-01-16T14:27:05.159110",
     "status": "completed"
    },
    "tags": []
   },
   "outputs": [],
   "source": [
    "run_df = pd.concat([\n",
    "    baseline_0,\n",
    "    baseline_n_clusters,\n",
    "    prop_inf_0,\n",
    "    prop_n_clusters,\n",
    "])"
   ]
  },
  {
   "cell_type": "code",
   "execution_count": null,
   "metadata": {
    "papermill": {
     "duration": 0.017374,
     "end_time": "2019-01-16T14:27:05.195199",
     "exception": false,
     "start_time": "2019-01-16T14:27:05.177825",
     "status": "completed"
    },
    "tags": []
   },
   "outputs": [],
   "source": [
    "run_df = run_df.rename(\n",
    "    index=str,\n",
    "    columns={\"test_accuracy\": \"Test Accuracy\",\n",
    "             \"n_auged\": \"Number of Augmented Points\",\n",
    "            },\n",
    ")"
   ]
  },
  {
   "cell_type": "code",
   "execution_count": null,
   "metadata": {
    "papermill": {
     "duration": 0.032399,
     "end_time": "2019-01-16T14:27:05.227643",
     "exception": false,
     "start_time": "2019-01-16T14:27:05.195244",
     "status": "completed"
    },
    "tags": []
   },
   "outputs": [],
   "source": [
    "run_df"
   ]
  },
  {
   "cell_type": "code",
   "execution_count": null,
   "metadata": {
    "papermill": {
     "duration": 0.017039,
     "end_time": "2019-01-16T14:27:05.244729",
     "exception": false,
     "start_time": "2019-01-16T14:27:05.227690",
     "status": "completed"
    },
    "tags": []
   },
   "outputs": [],
   "source": [
    "VSV_x = n_SV\n",
    "VSV_y = VSV_acc"
   ]
  },
  {
   "cell_type": "code",
   "execution_count": null,
   "metadata": {
    "papermill": {
     "duration": 0.666181,
     "end_time": "2019-01-16T14:27:05.910954",
     "exception": false,
     "start_time": "2019-01-16T14:27:05.244773",
     "status": "completed"
    },
    "tags": []
   },
   "outputs": [],
   "source": [
    "fig, ax = plt.subplots()\n",
    "run_plot = sns.lineplot(x=\"Number of Augmented Points\",\n",
    "                        y=\"Test Accuracy\",\n",
    "                        hue=\"test_type\",\n",
    "                        style=\"test_type\",\n",
    "                        ci=95,\n",
    "                        data=run_df,\n",
    "                        markers=True,\n",
    "                        dashes=True,\n",
    "                        ax=ax)\n",
    "#run_plot.scatter(VSV_x, VSV_y, marker=\"x\", color=\"k\", s=20)\n",
    "# text = run_plot.annotate(\"VSV\", (VSV_x, VSV_y))\n",
    "#text = run_plot.text(VSV_x, VSV_y, \"VSV\", fontsize=12)\n",
    "l = ax.legend()\n",
    "#l.texts[0].set_text(\"\")\n",
    "#l.set_title('Whatever you want')\n",
    "handles, labels = ax.get_legend_handles_labels()\n",
    "ax.legend(handles=handles[1:], labels=labels[1:])\n",
    "ax.yaxis.set_major_formatter(matplotlib.ticker.FormatStrFormatter(plt_y_axis_fmt_string))\n",
    "plt.setp(ax.get_legend().get_texts(), fontsize='11.5') # for legend text \n",
    "#run_plot.axhline(y=baseline_acc,\n",
    "#                 color=\"b\",\n",
    "#                 linestyle=\"--\",\n",
    "#                 label=\"baseline_acc\")\n",
    "run_plot.axhline(y=poisoned_acc,\n",
    "                 color=\"r\",\n",
    "                 linestyle=\"--\",\n",
    "                 label=\"poisoned_acc\")\n",
    "run_plot.axhline(y=all_aug_train_poisoned_acc,\n",
    "                 color=\"g\",\n",
    "                 linestyle=\"--\",\n",
    "                 label=\"all_aug_train_poisoned_acc\")\n",
    "#adjustText.adjust_text([text],\n",
    "#                       x=[VSV_x],\n",
    "#                       y=[VSV_y],\n",
    "#                       add_objects=[run_plot],\n",
    "#                       expand_points=(0.5, 0.3),\n",
    "#                       expand_objects=(0.3, 0.3),\n",
    "#                       ax=ax,\n",
    "#                       force_objects=(0.2, 0.2))\n",
    "run_plot.get_figure().savefig(filename_prefix + \"_joined_cluster.pdf\",\n",
    "                              bbox_inches=\"tight\")"
   ]
  },
  {
   "cell_type": "code",
   "execution_count": null,
   "metadata": {
    "papermill": {
     "duration": 2e-06,
     "end_time": "2019-01-16T14:27:05.911057",
     "exception": null,
     "start_time": "2019-01-16T14:27:05.911055",
     "status": "completed"
    },
    "tags": []
   },
   "outputs": [],
   "source": []
  },
  {
   "cell_type": "code",
   "execution_count": null,
   "metadata": {
    "papermill": {
     "duration": 2e-06,
     "end_time": "2019-01-16T14:27:05.925443",
     "exception": null,
     "start_time": "2019-01-16T14:27:05.925441",
     "status": "completed"
    },
    "tags": []
   },
   "outputs": [],
   "source": []
  },
  {
   "cell_type": "code",
   "execution_count": null,
   "metadata": {
    "papermill": {
     "duration": 2e-06,
     "end_time": "2019-01-16T14:27:05.939822",
     "exception": null,
     "start_time": "2019-01-16T14:27:05.939820",
     "status": "completed"
    },
    "tags": []
   },
   "outputs": [],
   "source": []
  }
 ],
 "metadata": {
  "kernelspec": {
   "display_name": "Python 3",
   "language": "python",
   "name": "python3"
  },
  "language_info": {
   "codemirror_mode": {
    "name": "ipython",
    "version": 3
   },
   "file_extension": ".py",
   "mimetype": "text/x-python",
   "name": "python",
   "nbconvert_exporter": "python",
   "pygments_lexer": "ipython3",
   "version": "3.6.5"
  },
  "papermill": {
   "duration": 3.311583,
   "end_time": "2019-01-16T14:27:06.814883",
   "environment_variables": {},
   "exception": false,
   "output_path": "Visualize_LOO_Experiments-Combine_Cluster.ipynb",
   "parameters": {
    "filename_prefix": "aug_results_CIFAR10_0_vs_1_crop_10_loss"
   },
   "start_time": "2019-01-16T14:27:03.503300",
   "version": "0.15.0"
  }
 },
 "nbformat": 4,
 "nbformat_minor": 2
}
